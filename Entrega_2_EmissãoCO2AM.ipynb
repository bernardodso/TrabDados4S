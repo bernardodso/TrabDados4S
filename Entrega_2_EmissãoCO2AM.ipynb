{
  "nbformat": 4,
  "nbformat_minor": 0,
  "metadata": {
    "colab": {
      "provenance": [],
      "include_colab_link": true
    },
    "kernelspec": {
      "name": "python3",
      "display_name": "Python 3"
    },
    "language_info": {
      "name": "python"
    }
  },
  "cells": [
    {
      "cell_type": "markdown",
      "metadata": {
        "id": "view-in-github",
        "colab_type": "text"
      },
      "source": [
        "<a href=\"https://colab.research.google.com/github/bernardodso/TrabDadosDesmatamento/blob/main/Entrega_2_Emiss%C3%A3oCO2AM.ipynb\" target=\"_parent\"><img src=\"https://colab.research.google.com/assets/colab-badge.svg\" alt=\"Open In Colab\"/></a>"
      ]
    },
    {
      "cell_type": "code",
      "source": [
        "#Nome: Bernardo Dias Soares de Oliveira (2111090)\n",
        "#Data: 25/11/2022"
      ],
      "metadata": {
        "id": "UqROm6hopZYZ"
      },
      "execution_count": null,
      "outputs": []
    },
    {
      "cell_type": "markdown",
      "source": [
        "Neste trabalho fiz questão de avaliar se os níves de desmatamento faz com que aumente a quantidade de emissão de CO2 dentro da amazonia legal. "
      ],
      "metadata": {
        "id": "uU6RVgLgVRSe"
      }
    },
    {
      "cell_type": "code",
      "execution_count": null,
      "metadata": {
        "id": "2RvJQLJ1FEAI"
      },
      "outputs": [],
      "source": [
        "import pandas as pd\n",
        "import numpy as np\n",
        "import statistics\n",
        "import matplotlib.pyplot as plt\n",
        "from numpy import *\n"
      ]
    },
    {
      "cell_type": "code",
      "source": [
        "tabela = pd.read_excel(\"dadosamazonia.xlsx\")\n",
        "display(tabela)"
      ],
      "metadata": {
        "colab": {
          "base_uri": "https://localhost:8080/",
          "height": 143
        },
        "id": "JdRAlT7LFyFc",
        "outputId": "2bbe6f79-96e0-4aeb-c786-28a7320b0448"
      },
      "execution_count": null,
      "outputs": [
        {
          "output_type": "display_data",
          "data": {
            "text/plain": [
              "      NM_REGIAO    AREA_TOT    AREA_INT    PERC_INT  Prodes 2020 (Km2)  \\\n",
              "0         NORTE  3850516.42  3850516.45  100.000001             8736.0   \n",
              "1      NORDESTE   276413.71   261344.63   94.548360              336.0   \n",
              "2  CENTRO-OESTE   903207.10   903207.10  100.000000             1779.0   \n",
              "\n",
              "   Prodes 2021(Km2)  Variação(%)  Emissão em toneladas de CO2 (2020)  \\\n",
              "0           10609.0     0.176548                               755.0   \n",
              "1             363.0     0.074380                               270.0   \n",
              "2            2263.0     0.213875                               446.0   \n",
              "\n",
              "   Emissão (2021)  \n",
              "0          826.00  \n",
              "1          295.65  \n",
              "2          488.00  "
            ],
            "text/html": [
              "\n",
              "  <div id=\"df-7fd47493-0bc2-4f1a-b519-9e392d7d4d9c\">\n",
              "    <div class=\"colab-df-container\">\n",
              "      <div>\n",
              "<style scoped>\n",
              "    .dataframe tbody tr th:only-of-type {\n",
              "        vertical-align: middle;\n",
              "    }\n",
              "\n",
              "    .dataframe tbody tr th {\n",
              "        vertical-align: top;\n",
              "    }\n",
              "\n",
              "    .dataframe thead th {\n",
              "        text-align: right;\n",
              "    }\n",
              "</style>\n",
              "<table border=\"1\" class=\"dataframe\">\n",
              "  <thead>\n",
              "    <tr style=\"text-align: right;\">\n",
              "      <th></th>\n",
              "      <th>NM_REGIAO</th>\n",
              "      <th>AREA_TOT</th>\n",
              "      <th>AREA_INT</th>\n",
              "      <th>PERC_INT</th>\n",
              "      <th>Prodes 2020 (Km2)</th>\n",
              "      <th>Prodes 2021(Km2)</th>\n",
              "      <th>Variação(%)</th>\n",
              "      <th>Emissão em toneladas de CO2 (2020)</th>\n",
              "      <th>Emissão (2021)</th>\n",
              "    </tr>\n",
              "  </thead>\n",
              "  <tbody>\n",
              "    <tr>\n",
              "      <th>0</th>\n",
              "      <td>NORTE</td>\n",
              "      <td>3850516.42</td>\n",
              "      <td>3850516.45</td>\n",
              "      <td>100.000001</td>\n",
              "      <td>8736.0</td>\n",
              "      <td>10609.0</td>\n",
              "      <td>0.176548</td>\n",
              "      <td>755.0</td>\n",
              "      <td>826.00</td>\n",
              "    </tr>\n",
              "    <tr>\n",
              "      <th>1</th>\n",
              "      <td>NORDESTE</td>\n",
              "      <td>276413.71</td>\n",
              "      <td>261344.63</td>\n",
              "      <td>94.548360</td>\n",
              "      <td>336.0</td>\n",
              "      <td>363.0</td>\n",
              "      <td>0.074380</td>\n",
              "      <td>270.0</td>\n",
              "      <td>295.65</td>\n",
              "    </tr>\n",
              "    <tr>\n",
              "      <th>2</th>\n",
              "      <td>CENTRO-OESTE</td>\n",
              "      <td>903207.10</td>\n",
              "      <td>903207.10</td>\n",
              "      <td>100.000000</td>\n",
              "      <td>1779.0</td>\n",
              "      <td>2263.0</td>\n",
              "      <td>0.213875</td>\n",
              "      <td>446.0</td>\n",
              "      <td>488.00</td>\n",
              "    </tr>\n",
              "  </tbody>\n",
              "</table>\n",
              "</div>\n",
              "      <button class=\"colab-df-convert\" onclick=\"convertToInteractive('df-7fd47493-0bc2-4f1a-b519-9e392d7d4d9c')\"\n",
              "              title=\"Convert this dataframe to an interactive table.\"\n",
              "              style=\"display:none;\">\n",
              "        \n",
              "  <svg xmlns=\"http://www.w3.org/2000/svg\" height=\"24px\"viewBox=\"0 0 24 24\"\n",
              "       width=\"24px\">\n",
              "    <path d=\"M0 0h24v24H0V0z\" fill=\"none\"/>\n",
              "    <path d=\"M18.56 5.44l.94 2.06.94-2.06 2.06-.94-2.06-.94-.94-2.06-.94 2.06-2.06.94zm-11 1L8.5 8.5l.94-2.06 2.06-.94-2.06-.94L8.5 2.5l-.94 2.06-2.06.94zm10 10l.94 2.06.94-2.06 2.06-.94-2.06-.94-.94-2.06-.94 2.06-2.06.94z\"/><path d=\"M17.41 7.96l-1.37-1.37c-.4-.4-.92-.59-1.43-.59-.52 0-1.04.2-1.43.59L10.3 9.45l-7.72 7.72c-.78.78-.78 2.05 0 2.83L4 21.41c.39.39.9.59 1.41.59.51 0 1.02-.2 1.41-.59l7.78-7.78 2.81-2.81c.8-.78.8-2.07 0-2.86zM5.41 20L4 18.59l7.72-7.72 1.47 1.35L5.41 20z\"/>\n",
              "  </svg>\n",
              "      </button>\n",
              "      \n",
              "  <style>\n",
              "    .colab-df-container {\n",
              "      display:flex;\n",
              "      flex-wrap:wrap;\n",
              "      gap: 12px;\n",
              "    }\n",
              "\n",
              "    .colab-df-convert {\n",
              "      background-color: #E8F0FE;\n",
              "      border: none;\n",
              "      border-radius: 50%;\n",
              "      cursor: pointer;\n",
              "      display: none;\n",
              "      fill: #1967D2;\n",
              "      height: 32px;\n",
              "      padding: 0 0 0 0;\n",
              "      width: 32px;\n",
              "    }\n",
              "\n",
              "    .colab-df-convert:hover {\n",
              "      background-color: #E2EBFA;\n",
              "      box-shadow: 0px 1px 2px rgba(60, 64, 67, 0.3), 0px 1px 3px 1px rgba(60, 64, 67, 0.15);\n",
              "      fill: #174EA6;\n",
              "    }\n",
              "\n",
              "    [theme=dark] .colab-df-convert {\n",
              "      background-color: #3B4455;\n",
              "      fill: #D2E3FC;\n",
              "    }\n",
              "\n",
              "    [theme=dark] .colab-df-convert:hover {\n",
              "      background-color: #434B5C;\n",
              "      box-shadow: 0px 1px 3px 1px rgba(0, 0, 0, 0.15);\n",
              "      filter: drop-shadow(0px 1px 2px rgba(0, 0, 0, 0.3));\n",
              "      fill: #FFFFFF;\n",
              "    }\n",
              "  </style>\n",
              "\n",
              "      <script>\n",
              "        const buttonEl =\n",
              "          document.querySelector('#df-7fd47493-0bc2-4f1a-b519-9e392d7d4d9c button.colab-df-convert');\n",
              "        buttonEl.style.display =\n",
              "          google.colab.kernel.accessAllowed ? 'block' : 'none';\n",
              "\n",
              "        async function convertToInteractive(key) {\n",
              "          const element = document.querySelector('#df-7fd47493-0bc2-4f1a-b519-9e392d7d4d9c');\n",
              "          const dataTable =\n",
              "            await google.colab.kernel.invokeFunction('convertToInteractive',\n",
              "                                                     [key], {});\n",
              "          if (!dataTable) return;\n",
              "\n",
              "          const docLinkHtml = 'Like what you see? Visit the ' +\n",
              "            '<a target=\"_blank\" href=https://colab.research.google.com/notebooks/data_table.ipynb>data table notebook</a>'\n",
              "            + ' to learn more about interactive tables.';\n",
              "          element.innerHTML = '';\n",
              "          dataTable['output_type'] = 'display_data';\n",
              "          await google.colab.output.renderOutput(dataTable, element);\n",
              "          const docLink = document.createElement('div');\n",
              "          docLink.innerHTML = docLinkHtml;\n",
              "          element.appendChild(docLink);\n",
              "        }\n",
              "      </script>\n",
              "    </div>\n",
              "  </div>\n",
              "  "
            ]
          },
          "metadata": {}
        }
      ]
    },
    {
      "cell_type": "code",
      "source": [
        "atAml= tabela[\"AREA_INT\"].sum()\n",
        "print(atAml)"
      ],
      "metadata": {
        "colab": {
          "base_uri": "https://localhost:8080/"
        },
        "id": "4A7imTduGo_q",
        "outputId": "18cb6938-74e8-4e0f-d6ec-8edfcecf373a"
      },
      "execution_count": null,
      "outputs": [
        {
          "output_type": "stream",
          "name": "stdout",
          "text": [
            "5015068.179999999\n"
          ]
        }
      ]
    },
    {
      "cell_type": "code",
      "source": [
        "atAm = tabela[\"AREA_TOT\"].sum()\n",
        "print(atAm)"
      ],
      "metadata": {
        "colab": {
          "base_uri": "https://localhost:8080/"
        },
        "id": "54p1V8BqU_yN",
        "outputId": "e93d5b5d-e7c3-4a95-f5cb-d47a9bf1c999"
      },
      "execution_count": null,
      "outputs": [
        {
          "output_type": "stream",
          "name": "stdout",
          "text": [
            "5030137.2299999995\n"
          ]
        }
      ]
    },
    {
      "cell_type": "code",
      "source": [
        "porAlAm = (atAml/atAm)*100\n",
        "print(porAlAm,\"%\")"
      ],
      "metadata": {
        "colab": {
          "base_uri": "https://localhost:8080/"
        },
        "id": "JZlfzKjMVJDD",
        "outputId": "35a954a2-94a4-4105-c041-76475e7227f0"
      },
      "execution_count": null,
      "outputs": [
        {
          "output_type": "stream",
          "name": "stdout",
          "text": [
            "99.70042467409979 %\n"
          ]
        }
      ]
    },
    {
      "cell_type": "markdown",
      "source": [
        "Com esses dados que extraí da tabela, podemos ver quanto de amazonia legal está nos 3 territórios selecionados. Depois disso vou começar a fazer a correlação entre o desmatamento com a emissão de CO2.\n",
        "\n"
      ],
      "metadata": {
        "id": "rRFJ2KfdVdyG"
      }
    },
    {
      "cell_type": "code",
      "source": [
        "x = tabela[\"Prodes 2020 (Km2)\"]\n",
        "y = tabela[\"Emissão em toneladas de CO2 (2020)\"]\n",
        "z = tabela[\"Prodes 2021(Km2)\"]\n",
        "c = tabela[\"Emissão (2021)\"]"
      ],
      "metadata": {
        "id": "GxVZY8FoVqyV"
      },
      "execution_count": null,
      "outputs": []
    },
    {
      "cell_type": "code",
      "source": [
        "corrcoef(x,y)\n"
      ],
      "metadata": {
        "colab": {
          "base_uri": "https://localhost:8080/"
        },
        "id": "A_1o1zEeWTeG",
        "outputId": "c07000c7-75f9-45aa-819a-1ef424913a1a"
      },
      "execution_count": null,
      "outputs": [
        {
          "output_type": "execute_result",
          "data": {
            "text/plain": [
              "array([[1.        , 0.97901171],\n",
              "       [0.97901171, 1.        ]])"
            ]
          },
          "metadata": {},
          "execution_count": 22
        }
      ]
    },
    {
      "cell_type": "code",
      "source": [
        "corrcoef(c,z)"
      ],
      "metadata": {
        "colab": {
          "base_uri": "https://localhost:8080/"
        },
        "id": "xl033d2xaMhF",
        "outputId": "f997e970-3a31-4499-b4f9-3b900b5514b4"
      },
      "execution_count": null,
      "outputs": [
        {
          "output_type": "execute_result",
          "data": {
            "text/plain": [
              "array([[1.        , 0.98178474],\n",
              "       [0.98178474, 1.        ]])"
            ]
          },
          "metadata": {},
          "execution_count": 23
        }
      ]
    },
    {
      "cell_type": "markdown",
      "source": [
        "Aqui podemos perceber uma correlação interessante entre o desmatamento do ano de 2020 e 2021 com a emissão e CO2 dentro da Amazônia legal. Isso pode nos mostrar que sim o desmatamento pode causar o aumento da quatidade de CO2 na atmosfera."
      ],
      "metadata": {
        "id": "b_hIrPcHWet5"
      }
    },
    {
      "cell_type": "code",
      "source": [
        "regiao = tabela[\"NM_REGIAO\"]\n",
        "desmatamento2020 = tabela[\"Prodes 2020 (Km2)\"]\n",
        "desmatamento2021 = tabela[\"Prodes 2021(Km2)\"]\n",
        "emissão2020 = tabela[\"Emissão em toneladas de CO2 (2020)\"]\n",
        "emissão2021 = tabela[\"Emissão (2021)\"]\n",
        "areatotal = tabela[\"AREA_TOT\"]\n",
        "percentual = tabela[\"PERC_INT\"]"
      ],
      "metadata": {
        "id": "-daKzF-2WtPg"
      },
      "execution_count": null,
      "outputs": []
    },
    {
      "cell_type": "code",
      "source": [
        "plt.plot(regiao,desmatamento2020)"
      ],
      "metadata": {
        "colab": {
          "base_uri": "https://localhost:8080/",
          "height": 282
        },
        "id": "efZqUNA1ZYo1",
        "outputId": "2d548ada-9129-494e-aebf-c1f21936fedb"
      },
      "execution_count": null,
      "outputs": [
        {
          "output_type": "execute_result",
          "data": {
            "text/plain": [
              "[<matplotlib.lines.Line2D at 0x7f9717381450>]"
            ]
          },
          "metadata": {},
          "execution_count": 27
        },
        {
          "output_type": "display_data",
          "data": {
            "text/plain": [
              "<Figure size 432x288 with 1 Axes>"
            ],
            "image/png": "[encoded data removed]"
          },
          "metadata": {
            "needs_background": "light"
          }
        }
      ]
    },
    {
      "cell_type": "code",
      "source": [
        "plt.plot(regiao,desmatamento2021)"
      ],
      "metadata": {
        "colab": {
          "base_uri": "https://localhost:8080/",
          "height": 282
        },
        "id": "Za7lgsixfa-j",
        "outputId": "fdcda298-e6c4-4f99-ffcb-7dc474567c92"
      },
      "execution_count": null,
      "outputs": [
        {
          "output_type": "execute_result",
          "data": {
            "text/plain": [
              "[<matplotlib.lines.Line2D at 0x7f9716c7cc10>]"
            ]
          },
          "metadata": {},
          "execution_count": 28
        },
        {
          "output_type": "display_data",
          "data": {
            "text/plain": [
              "<Figure size 432x288 with 1 Axes>"
            ],
            "image/png": "[encoded data removed]"
          },
          "metadata": {
            "needs_background": "light"
          }
        }
      ]
    },
    {
      "cell_type": "code",
      "source": [
        "plt.plot(regiao,emissão2020)"
      ],
      "metadata": {
        "colab": {
          "base_uri": "https://localhost:8080/",
          "height": 282
        },
        "id": "GmranfzSffih",
        "outputId": "c9652978-c924-45df-fd87-87103334d2a8"
      },
      "execution_count": null,
      "outputs": [
        {
          "output_type": "execute_result",
          "data": {
            "text/plain": [
              "[<matplotlib.lines.Line2D at 0x7f9716b00f10>]"
            ]
          },
          "metadata": {},
          "execution_count": 32
        },
        {
          "output_type": "display_data",
          "data": {
            "text/plain": [
              "<Figure size 432x288 with 1 Axes>"
            ],
            "image/png": "[encoded data removed]"
          },
          "metadata": {
            "needs_background": "light"
          }
        }
      ]
    },
    {
      "cell_type": "code",
      "source": [
        "plt.plot(regiao,emissão2021)"
      ],
      "metadata": {
        "colab": {
          "base_uri": "https://localhost:8080/",
          "height": 282
        },
        "id": "G7qL5-3DggjF",
        "outputId": "03d85204-c7e6-49c6-bf7e-b2bfb878049f"
      },
      "execution_count": null,
      "outputs": [
        {
          "output_type": "execute_result",
          "data": {
            "text/plain": [
              "[<matplotlib.lines.Line2D at 0x7f9716af4550>]"
            ]
          },
          "metadata": {},
          "execution_count": 33
        },
        {
          "output_type": "display_data",
          "data": {
            "text/plain": [
              "<Figure size 432x288 with 1 Axes>"
            ],
            "image/png": "[encoded data removed]"
          },
          "metadata": {
            "needs_background": "light"
          }
        }
      ]
    },
    {
      "cell_type": "markdown",
      "source": [
        "Muito interessante pois todos os gráficos se comportam de maneiras muito parecidas. Pode ser pela correlação dos dados sejam muito alta logo tendem a ter o mesmo caminho.\n",
        "Com os gráficos posso perceber melhor visualmente quais são os maiores problemas em quesito desmatamento e emissão de CO2. Como norte possui a maior parte da amazonia legal, há uma expectativa que seja maior o desmatamento e a emissão mas isso não quer dizer que seja algo bom, por isso tem que haver mais formas sobre como e onde atacar os maiores problemas de emissão e desmatamento da amazônia."
      ],
      "metadata": {
        "id": "FQbpOLMfZx5y"
      }
    }
  ]
}